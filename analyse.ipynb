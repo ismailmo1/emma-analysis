{
 "cells": [
  {
   "cell_type": "code",
   "execution_count": 1,
   "metadata": {},
   "outputs": [],
   "source": [
    "import pandas as pd"
   ]
  },
  {
   "cell_type": "code",
   "execution_count": 2,
   "metadata": {},
   "outputs": [],
   "source": [
    "df = pd.read_excel(\"./emma-export-1638657-2023-12-08T08_36_19.053Z-19584.xlsx\")"
   ]
  },
  {
   "cell_type": "code",
   "execution_count": 3,
   "metadata": {},
   "outputs": [
    {
     "data": {
      "text/html": [
       "<div>\n",
       "<style scoped>\n",
       "    .dataframe tbody tr th:only-of-type {\n",
       "        vertical-align: middle;\n",
       "    }\n",
       "\n",
       "    .dataframe tbody tr th {\n",
       "        vertical-align: top;\n",
       "    }\n",
       "\n",
       "    .dataframe thead th {\n",
       "        text-align: right;\n",
       "    }\n",
       "</style>\n",
       "<table border=\"1\" class=\"dataframe\">\n",
       "  <thead>\n",
       "    <tr style=\"text-align: right;\">\n",
       "      <th></th>\n",
       "      <th>ID</th>\n",
       "      <th>Date</th>\n",
       "      <th>Amount</th>\n",
       "      <th>Account</th>\n",
       "      <th>Bank</th>\n",
       "      <th>Currency</th>\n",
       "      <th>Category</th>\n",
       "      <th>Type</th>\n",
       "      <th>Tags</th>\n",
       "      <th>Counterparty</th>\n",
       "      <th>Custom Name</th>\n",
       "      <th>Merchant</th>\n",
       "      <th>Additional details</th>\n",
       "      <th>Notes</th>\n",
       "      <th>Linked transaction ID</th>\n",
       "    </tr>\n",
       "  </thead>\n",
       "  <tbody>\n",
       "    <tr>\n",
       "      <th>0</th>\n",
       "      <td>f55b36f6f94be05a6ce8be2f1a3f21e8</td>\n",
       "      <td>2023-12-06</td>\n",
       "      <td>-25.00</td>\n",
       "      <td>SELECT ACCOUNT</td>\n",
       "      <td>Natwest</td>\n",
       "      <td>GBP</td>\n",
       "      <td>Personal Care</td>\n",
       "      <td>Direct Debit</td>\n",
       "      <td>NaN</td>\n",
       "      <td>JD SPORTS GYMS</td>\n",
       "      <td>NaN</td>\n",
       "      <td>JD Sports</td>\n",
       "      <td>NaN</td>\n",
       "      <td>NaN</td>\n",
       "      <td>NaN</td>\n",
       "    </tr>\n",
       "    <tr>\n",
       "      <th>1</th>\n",
       "      <td>35bc00817e7dfbf97297b1547ff0b82a</td>\n",
       "      <td>2023-12-05</td>\n",
       "      <td>-51.56</td>\n",
       "      <td>SELECT ACCOUNT</td>\n",
       "      <td>Natwest</td>\n",
       "      <td>GBP</td>\n",
       "      <td>Transport</td>\n",
       "      <td>Purchase</td>\n",
       "      <td>NaN</td>\n",
       "      <td>ASDA PETROL BRADFORD GB</td>\n",
       "      <td>NaN</td>\n",
       "      <td>Asda Petrol Station</td>\n",
       "      <td>NaN</td>\n",
       "      <td>NaN</td>\n",
       "      <td>NaN</td>\n",
       "    </tr>\n",
       "    <tr>\n",
       "      <th>2</th>\n",
       "      <td>d6e7ca43f574e6a7e293c04ad07adafc</td>\n",
       "      <td>2023-12-04</td>\n",
       "      <td>-2.80</td>\n",
       "      <td>SELECT ACCOUNT</td>\n",
       "      <td>Natwest</td>\n",
       "      <td>GBP</td>\n",
       "      <td>Groceries</td>\n",
       "      <td>Purchase</td>\n",
       "      <td>NaN</td>\n",
       "      <td>SAINSBURYS S/MKTS LIVERSEDGE GB</td>\n",
       "      <td>NaN</td>\n",
       "      <td>Sainsbury's</td>\n",
       "      <td>NaN</td>\n",
       "      <td>NaN</td>\n",
       "      <td>NaN</td>\n",
       "    </tr>\n",
       "    <tr>\n",
       "      <th>3</th>\n",
       "      <td>7229bf9fa20593e2a781a5b33b5239ca</td>\n",
       "      <td>2023-12-04</td>\n",
       "      <td>-1.79</td>\n",
       "      <td>SELECT ACCOUNT</td>\n",
       "      <td>Natwest</td>\n",
       "      <td>GBP</td>\n",
       "      <td>Groceries</td>\n",
       "      <td>Purchase</td>\n",
       "      <td>NaN</td>\n",
       "      <td>FARMFOODS 405 DEWSBURY GB</td>\n",
       "      <td>NaN</td>\n",
       "      <td>Farmfoods</td>\n",
       "      <td>NaN</td>\n",
       "      <td>NaN</td>\n",
       "      <td>NaN</td>\n",
       "    </tr>\n",
       "    <tr>\n",
       "      <th>4</th>\n",
       "      <td>fcef157f83a1c608ca8da88c4f899b4f</td>\n",
       "      <td>2023-12-04</td>\n",
       "      <td>-3.75</td>\n",
       "      <td>SELECT ACCOUNT</td>\n",
       "      <td>Natwest</td>\n",
       "      <td>GBP</td>\n",
       "      <td>Eating Out</td>\n",
       "      <td>Purchase</td>\n",
       "      <td>NaN</td>\n",
       "      <td>TAMP &amp; STEAM COFFEE HO LIVERSEDGE GB</td>\n",
       "      <td>NaN</td>\n",
       "      <td>NaN</td>\n",
       "      <td>NaN</td>\n",
       "      <td>NaN</td>\n",
       "      <td>NaN</td>\n",
       "    </tr>\n",
       "  </tbody>\n",
       "</table>\n",
       "</div>"
      ],
      "text/plain": [
       "                                 ID        Date  Amount         Account  \\\n",
       "0  f55b36f6f94be05a6ce8be2f1a3f21e8  2023-12-06  -25.00  SELECT ACCOUNT   \n",
       "1  35bc00817e7dfbf97297b1547ff0b82a  2023-12-05  -51.56  SELECT ACCOUNT   \n",
       "2  d6e7ca43f574e6a7e293c04ad07adafc  2023-12-04   -2.80  SELECT ACCOUNT   \n",
       "3  7229bf9fa20593e2a781a5b33b5239ca  2023-12-04   -1.79  SELECT ACCOUNT   \n",
       "4  fcef157f83a1c608ca8da88c4f899b4f  2023-12-04   -3.75  SELECT ACCOUNT   \n",
       "\n",
       "      Bank Currency       Category          Type Tags  \\\n",
       "0  Natwest      GBP  Personal Care  Direct Debit  NaN   \n",
       "1  Natwest      GBP      Transport      Purchase  NaN   \n",
       "2  Natwest      GBP      Groceries      Purchase  NaN   \n",
       "3  Natwest      GBP      Groceries      Purchase  NaN   \n",
       "4  Natwest      GBP     Eating Out      Purchase  NaN   \n",
       "\n",
       "                           Counterparty  Custom Name             Merchant  \\\n",
       "0                        JD SPORTS GYMS          NaN            JD Sports   \n",
       "1               ASDA PETROL BRADFORD GB          NaN  Asda Petrol Station   \n",
       "2       SAINSBURYS S/MKTS LIVERSEDGE GB          NaN          Sainsbury's   \n",
       "3             FARMFOODS 405 DEWSBURY GB          NaN            Farmfoods   \n",
       "4  TAMP & STEAM COFFEE HO LIVERSEDGE GB          NaN                  NaN   \n",
       "\n",
       "  Additional details  Notes Linked transaction ID  \n",
       "0                NaN    NaN                   NaN  \n",
       "1                NaN    NaN                   NaN  \n",
       "2                NaN    NaN                   NaN  \n",
       "3                NaN    NaN                   NaN  \n",
       "4                NaN    NaN                   NaN  "
      ]
     },
     "execution_count": 3,
     "metadata": {},
     "output_type": "execute_result"
    }
   ],
   "source": [
    "df.head()"
   ]
  },
  {
   "cell_type": "code",
   "execution_count": 126,
   "metadata": {},
   "outputs": [],
   "source": [
    "aug_dec_23 = df[df['Date'].between('2023-08-01', '2023-12-08')]"
   ]
  },
  {
   "cell_type": "code",
   "execution_count": 127,
   "metadata": {},
   "outputs": [],
   "source": [
    "aug_dec_23 = aug_dec_23.drop(aug_dec_23[aug_dec_23['Category']=='Excluded'].index)"
   ]
  },
  {
   "cell_type": "code",
   "execution_count": 128,
   "metadata": {},
   "outputs": [],
   "source": [
    "def add_income_category(row):\n",
    "    if row['Amount']>0:\n",
    "        row['Category'] = row['Category'] + '_in'\n",
    "    return row\n",
    "aug_dec_23 = aug_dec_23.apply(add_income_category, axis=1)"
   ]
  },
  {
   "cell_type": "code",
   "execution_count": 129,
   "metadata": {},
   "outputs": [],
   "source": [
    "import plotly.express as px"
   ]
  },
  {
   "cell_type": "code",
   "execution_count": 145,
   "metadata": {},
   "outputs": [
    {
     "data": {
      "text/plain": [
       "{'Charity_in': 0,\n",
       " 'Groceries': 1,\n",
       " 'Housing': 2,\n",
       " 'Personal Care': 3,\n",
       " 'Transport_in': 4,\n",
       " 'Holidays_in': 5,\n",
       " 'Shopping': 6,\n",
       " 'Income_in': 7,\n",
       " 'Cash': 8,\n",
       " 'Education': 9,\n",
       " 'Housing_in': 10,\n",
       " 'Eating Out': 11,\n",
       " 'Transport': 12,\n",
       " 'Family_in': 13,\n",
       " 'Bills': 14,\n",
       " 'Charity': 15,\n",
       " 'Entertainment': 16,\n",
       " 'Family': 17,\n",
       " 'Eating Out_in': 18,\n",
       " 'General': 19,\n",
       " 'Holidays': 20,\n",
       " 'Shopping_in': 21,\n",
       " 'General_in': 22,\n",
       " 'in': 23}"
      ]
     },
     "execution_count": 145,
     "metadata": {},
     "output_type": "execute_result"
    }
   ],
   "source": [
    "cat_map = {i:idx for idx, i in enumerate(set(aug_dec_23['Category']))}\n",
    "cat_map = cat_map | {\"in\":len(cat_map)}\n",
    "cat_map"
   ]
  },
  {
   "cell_type": "code",
   "execution_count": 146,
   "metadata": {},
   "outputs": [],
   "source": [
    "def apply_source_target(row):\n",
    "    if row['Amount']>0:\n",
    "        # income\n",
    "        row['source'] = cat_map[row['Category']]\n",
    "        # centre of sankey\n",
    "        row['target'] = cat_map['in']\n",
    "    else:\n",
    "        # spending\n",
    "        row['target'] = cat_map[row['Category']]\n",
    "        # centre of sankey\n",
    "        row['source'] = cat_map['in']\n",
    "    return row"
   ]
  },
  {
   "cell_type": "code",
   "execution_count": 147,
   "metadata": {},
   "outputs": [],
   "source": [
    "aug_dec_23['target'] = \"\"\n",
    "aug_dec_23['source'] = \"\""
   ]
  },
  {
   "cell_type": "code",
   "execution_count": 148,
   "metadata": {},
   "outputs": [],
   "source": [
    "aug_dec_23 = aug_dec_23.apply(lambda x:apply_source_target(x), axis=1)"
   ]
  },
  {
   "cell_type": "code",
   "execution_count": 149,
   "metadata": {},
   "outputs": [
    {
     "data": {
      "text/html": [
       "<div>\n",
       "<style scoped>\n",
       "    .dataframe tbody tr th:only-of-type {\n",
       "        vertical-align: middle;\n",
       "    }\n",
       "\n",
       "    .dataframe tbody tr th {\n",
       "        vertical-align: top;\n",
       "    }\n",
       "\n",
       "    .dataframe thead th {\n",
       "        text-align: right;\n",
       "    }\n",
       "</style>\n",
       "<table border=\"1\" class=\"dataframe\">\n",
       "  <thead>\n",
       "    <tr style=\"text-align: right;\">\n",
       "      <th></th>\n",
       "      <th>ID</th>\n",
       "      <th>Date</th>\n",
       "      <th>Amount</th>\n",
       "      <th>Account</th>\n",
       "      <th>Bank</th>\n",
       "      <th>Currency</th>\n",
       "      <th>Category</th>\n",
       "      <th>Type</th>\n",
       "      <th>Tags</th>\n",
       "      <th>Counterparty</th>\n",
       "      <th>Custom Name</th>\n",
       "      <th>Merchant</th>\n",
       "      <th>Additional details</th>\n",
       "      <th>Notes</th>\n",
       "      <th>Linked transaction ID</th>\n",
       "      <th>target</th>\n",
       "      <th>source</th>\n",
       "    </tr>\n",
       "  </thead>\n",
       "  <tbody>\n",
       "    <tr>\n",
       "      <th>0</th>\n",
       "      <td>f55b36f6f94be05a6ce8be2f1a3f21e8</td>\n",
       "      <td>2023-12-06</td>\n",
       "      <td>-25.00</td>\n",
       "      <td>SELECT ACCOUNT</td>\n",
       "      <td>Natwest</td>\n",
       "      <td>GBP</td>\n",
       "      <td>Personal Care</td>\n",
       "      <td>Direct Debit</td>\n",
       "      <td>NaN</td>\n",
       "      <td>JD SPORTS GYMS</td>\n",
       "      <td>NaN</td>\n",
       "      <td>JD Sports</td>\n",
       "      <td>NaN</td>\n",
       "      <td>NaN</td>\n",
       "      <td>NaN</td>\n",
       "      <td>3</td>\n",
       "      <td>23</td>\n",
       "    </tr>\n",
       "    <tr>\n",
       "      <th>1</th>\n",
       "      <td>35bc00817e7dfbf97297b1547ff0b82a</td>\n",
       "      <td>2023-12-05</td>\n",
       "      <td>-51.56</td>\n",
       "      <td>SELECT ACCOUNT</td>\n",
       "      <td>Natwest</td>\n",
       "      <td>GBP</td>\n",
       "      <td>Transport</td>\n",
       "      <td>Purchase</td>\n",
       "      <td>NaN</td>\n",
       "      <td>ASDA PETROL BRADFORD GB</td>\n",
       "      <td>NaN</td>\n",
       "      <td>Asda Petrol Station</td>\n",
       "      <td>NaN</td>\n",
       "      <td>NaN</td>\n",
       "      <td>NaN</td>\n",
       "      <td>12</td>\n",
       "      <td>23</td>\n",
       "    </tr>\n",
       "    <tr>\n",
       "      <th>2</th>\n",
       "      <td>d6e7ca43f574e6a7e293c04ad07adafc</td>\n",
       "      <td>2023-12-04</td>\n",
       "      <td>-2.80</td>\n",
       "      <td>SELECT ACCOUNT</td>\n",
       "      <td>Natwest</td>\n",
       "      <td>GBP</td>\n",
       "      <td>Groceries</td>\n",
       "      <td>Purchase</td>\n",
       "      <td>NaN</td>\n",
       "      <td>SAINSBURYS S/MKTS LIVERSEDGE GB</td>\n",
       "      <td>NaN</td>\n",
       "      <td>Sainsbury's</td>\n",
       "      <td>NaN</td>\n",
       "      <td>NaN</td>\n",
       "      <td>NaN</td>\n",
       "      <td>1</td>\n",
       "      <td>23</td>\n",
       "    </tr>\n",
       "    <tr>\n",
       "      <th>3</th>\n",
       "      <td>7229bf9fa20593e2a781a5b33b5239ca</td>\n",
       "      <td>2023-12-04</td>\n",
       "      <td>-1.79</td>\n",
       "      <td>SELECT ACCOUNT</td>\n",
       "      <td>Natwest</td>\n",
       "      <td>GBP</td>\n",
       "      <td>Groceries</td>\n",
       "      <td>Purchase</td>\n",
       "      <td>NaN</td>\n",
       "      <td>FARMFOODS 405 DEWSBURY GB</td>\n",
       "      <td>NaN</td>\n",
       "      <td>Farmfoods</td>\n",
       "      <td>NaN</td>\n",
       "      <td>NaN</td>\n",
       "      <td>NaN</td>\n",
       "      <td>1</td>\n",
       "      <td>23</td>\n",
       "    </tr>\n",
       "    <tr>\n",
       "      <th>4</th>\n",
       "      <td>fcef157f83a1c608ca8da88c4f899b4f</td>\n",
       "      <td>2023-12-04</td>\n",
       "      <td>-3.75</td>\n",
       "      <td>SELECT ACCOUNT</td>\n",
       "      <td>Natwest</td>\n",
       "      <td>GBP</td>\n",
       "      <td>Eating Out</td>\n",
       "      <td>Purchase</td>\n",
       "      <td>NaN</td>\n",
       "      <td>TAMP &amp; STEAM COFFEE HO LIVERSEDGE GB</td>\n",
       "      <td>NaN</td>\n",
       "      <td>NaN</td>\n",
       "      <td>NaN</td>\n",
       "      <td>NaN</td>\n",
       "      <td>NaN</td>\n",
       "      <td>11</td>\n",
       "      <td>23</td>\n",
       "    </tr>\n",
       "  </tbody>\n",
       "</table>\n",
       "</div>"
      ],
      "text/plain": [
       "                                 ID        Date  Amount         Account  \\\n",
       "0  f55b36f6f94be05a6ce8be2f1a3f21e8  2023-12-06  -25.00  SELECT ACCOUNT   \n",
       "1  35bc00817e7dfbf97297b1547ff0b82a  2023-12-05  -51.56  SELECT ACCOUNT   \n",
       "2  d6e7ca43f574e6a7e293c04ad07adafc  2023-12-04   -2.80  SELECT ACCOUNT   \n",
       "3  7229bf9fa20593e2a781a5b33b5239ca  2023-12-04   -1.79  SELECT ACCOUNT   \n",
       "4  fcef157f83a1c608ca8da88c4f899b4f  2023-12-04   -3.75  SELECT ACCOUNT   \n",
       "\n",
       "      Bank Currency       Category          Type Tags  \\\n",
       "0  Natwest      GBP  Personal Care  Direct Debit  NaN   \n",
       "1  Natwest      GBP      Transport      Purchase  NaN   \n",
       "2  Natwest      GBP      Groceries      Purchase  NaN   \n",
       "3  Natwest      GBP      Groceries      Purchase  NaN   \n",
       "4  Natwest      GBP     Eating Out      Purchase  NaN   \n",
       "\n",
       "                           Counterparty  Custom Name             Merchant  \\\n",
       "0                        JD SPORTS GYMS          NaN            JD Sports   \n",
       "1               ASDA PETROL BRADFORD GB          NaN  Asda Petrol Station   \n",
       "2       SAINSBURYS S/MKTS LIVERSEDGE GB          NaN          Sainsbury's   \n",
       "3             FARMFOODS 405 DEWSBURY GB          NaN            Farmfoods   \n",
       "4  TAMP & STEAM COFFEE HO LIVERSEDGE GB          NaN                  NaN   \n",
       "\n",
       "  Additional details  Notes Linked transaction ID  target  source  \n",
       "0                NaN    NaN                   NaN       3      23  \n",
       "1                NaN    NaN                   NaN      12      23  \n",
       "2                NaN    NaN                   NaN       1      23  \n",
       "3                NaN    NaN                   NaN       1      23  \n",
       "4                NaN    NaN                   NaN      11      23  "
      ]
     },
     "execution_count": 149,
     "metadata": {},
     "output_type": "execute_result"
    }
   ],
   "source": [
    "aug_dec_23.head()"
   ]
  },
  {
   "cell_type": "code",
   "execution_count": 150,
   "metadata": {},
   "outputs": [],
   "source": [
    "labels = [label for label, idx in sorted(cat_map.items(), key=lambda x:x[1])] + ['in']"
   ]
  },
  {
   "cell_type": "code",
   "execution_count": 153,
   "metadata": {},
   "outputs": [
    {
     "data": {
      "application/vnd.plotly.v1+json": {
       "config": {
        "plotlyServerURL": "https://plot.ly"
       },
       "data": [
        {
         "arrangement": "perpendicular",
         "link": {
          "source": [
           23,
           23,
           23,
           23,
           23,
           7,
           23,
           23,
           23,
           23,
           23,
           23,
           23,
           23,
           23,
           7,
           23,
           23,
           23,
           23,
           23,
           7,
           23,
           23,
           23,
           23,
           23,
           23,
           23,
           23,
           23,
           23,
           23,
           23,
           23,
           23,
           23,
           23,
           23,
           23,
           23,
           23,
           23,
           23,
           23,
           23,
           23,
           23,
           23,
           23,
           23,
           23,
           23,
           23,
           23,
           23,
           23,
           23,
           23,
           23,
           23,
           23,
           23,
           23,
           23,
           23,
           23,
           23,
           23,
           23,
           23,
           23,
           23,
           23,
           23,
           23,
           23,
           23,
           23,
           23,
           23,
           23,
           23,
           23,
           23,
           23,
           23,
           23,
           23,
           23,
           23,
           23,
           23,
           23,
           23,
           23,
           23,
           23,
           23,
           23,
           23,
           23,
           23,
           23,
           23,
           23,
           23,
           23,
           23,
           7,
           23,
           23,
           23,
           23,
           23,
           23,
           23,
           23,
           23,
           23,
           23,
           23,
           23,
           23,
           23,
           7,
           23,
           23,
           23,
           23,
           23,
           23,
           23,
           23,
           23,
           23,
           23,
           23,
           23,
           23,
           23,
           23,
           13,
           13,
           23,
           23,
           23,
           23,
           23,
           23,
           23,
           23,
           23,
           23,
           23,
           23,
           23,
           23,
           23,
           23,
           23,
           23,
           23,
           23,
           23,
           22,
           23,
           23,
           23,
           23,
           23,
           23,
           23,
           23,
           23,
           23,
           23,
           23,
           23,
           23,
           23,
           23,
           23,
           23,
           23,
           23,
           18,
           23,
           23,
           23,
           23,
           23,
           23,
           23,
           23,
           23,
           23,
           23,
           23,
           23,
           23,
           23,
           23,
           23,
           23,
           23,
           21,
           0,
           7,
           23,
           23,
           23,
           23,
           23,
           23,
           23,
           23,
           23,
           23,
           23,
           23,
           23,
           23,
           7,
           23,
           23,
           23,
           23,
           22,
           23,
           23,
           23,
           23,
           23,
           23,
           21,
           23,
           23,
           23,
           23,
           23,
           23,
           23,
           23,
           23,
           23,
           23,
           23,
           23,
           23,
           23,
           23,
           23,
           23,
           13,
           23,
           23,
           23,
           23,
           23,
           23,
           23,
           23,
           23,
           23,
           23,
           10,
           23,
           23,
           23,
           23,
           23,
           23,
           23,
           23,
           23,
           23,
           23,
           23,
           23,
           23,
           23,
           23,
           23,
           23,
           23,
           23,
           23,
           23,
           23,
           23,
           23,
           23,
           23,
           23,
           23,
           23,
           23,
           23,
           23,
           7,
           23,
           23,
           23,
           23,
           23,
           23,
           23,
           23,
           23,
           23,
           23,
           23,
           23,
           23,
           23,
           23,
           23,
           23,
           23,
           23,
           23,
           23,
           23,
           23,
           23,
           23,
           23,
           23,
           23,
           23,
           23,
           23,
           23,
           23,
           23,
           23,
           23,
           23,
           23,
           23,
           10,
           23,
           23,
           23,
           23,
           23,
           23,
           23,
           23,
           23,
           23,
           23,
           23,
           23,
           23,
           23,
           23,
           23,
           23,
           23,
           23,
           23,
           23,
           23,
           23,
           23,
           23,
           23,
           22,
           23,
           23,
           22,
           23,
           23,
           23,
           23,
           23,
           23,
           23,
           4,
           23,
           23,
           23,
           23,
           23,
           23,
           23,
           23,
           23,
           23,
           23,
           23,
           23,
           5,
           23,
           23,
           23,
           23,
           23,
           21,
           23,
           23,
           23,
           23,
           23,
           23,
           23,
           23,
           23,
           23,
           23,
           23
          ],
          "target": [
           3,
           12,
           1,
           1,
           11,
           23,
           14,
           1,
           9,
           12,
           1,
           11,
           11,
           1,
           2,
           23,
           2,
           14,
           14,
           3,
           14,
           23,
           12,
           11,
           11,
           1,
           11,
           6,
           1,
           12,
           11,
           19,
           11,
           1,
           12,
           12,
           11,
           11,
           1,
           11,
           11,
           15,
           14,
           1,
           11,
           12,
           1,
           1,
           1,
           11,
           1,
           1,
           14,
           1,
           11,
           1,
           1,
           12,
           12,
           1,
           20,
           11,
           12,
           1,
           12,
           12,
           1,
           12,
           1,
           1,
           1,
           6,
           1,
           1,
           1,
           1,
           1,
           1,
           9,
           19,
           3,
           6,
           12,
           1,
           12,
           11,
           20,
           11,
           12,
           12,
           1,
           1,
           20,
           9,
           1,
           14,
           20,
           20,
           20,
           20,
           20,
           20,
           20,
           20,
           2,
           14,
           14,
           3,
           14,
           23,
           20,
           20,
           20,
           20,
           20,
           20,
           20,
           20,
           20,
           20,
           20,
           20,
           20,
           20,
           20,
           23,
           20,
           20,
           20,
           20,
           20,
           20,
           20,
           20,
           20,
           20,
           20,
           20,
           20,
           20,
           20,
           20,
           23,
           23,
           15,
           20,
           20,
           20,
           1,
           20,
           20,
           20,
           20,
           20,
           20,
           11,
           11,
           11,
           11,
           1,
           11,
           12,
           11,
           1,
           1,
           23,
           1,
           12,
           11,
           1,
           17,
           11,
           11,
           1,
           11,
           1,
           6,
           11,
           17,
           14,
           12,
           12,
           1,
           1,
           1,
           12,
           23,
           11,
           11,
           11,
           1,
           20,
           12,
           1,
           9,
           20,
           20,
           1,
           1,
           3,
           1,
           20,
           1,
           15,
           14,
           12,
           23,
           23,
           23,
           20,
           14,
           2,
           14,
           3,
           14,
           9,
           12,
           11,
           3,
           12,
           20,
           20,
           20,
           23,
           6,
           2,
           19,
           6,
           23,
           1,
           1,
           20,
           12,
           19,
           1,
           23,
           12,
           1,
           6,
           1,
           11,
           1,
           1,
           1,
           1,
           6,
           14,
           12,
           11,
           12,
           11,
           12,
           1,
           6,
           23,
           19,
           1,
           1,
           12,
           1,
           1,
           16,
           16,
           1,
           1,
           12,
           23,
           2,
           1,
           1,
           1,
           14,
           3,
           11,
           11,
           12,
           11,
           11,
           1,
           2,
           12,
           11,
           12,
           20,
           20,
           19,
           19,
           20,
           14,
           12,
           1,
           1,
           9,
           1,
           17,
           17,
           2,
           14,
           14,
           14,
           23,
           3,
           11,
           6,
           12,
           12,
           11,
           6,
           12,
           11,
           1,
           11,
           11,
           12,
           11,
           2,
           2,
           11,
           2,
           1,
           1,
           2,
           6,
           8,
           11,
           12,
           11,
           2,
           20,
           2,
           1,
           12,
           14,
           1,
           11,
           1,
           1,
           1,
           12,
           2,
           2,
           23,
           11,
           11,
           12,
           1,
           6,
           12,
           1,
           1,
           1,
           2,
           1,
           1,
           6,
           6,
           6,
           11,
           6,
           3,
           12,
           6,
           2,
           19,
           12,
           11,
           19,
           19,
           6,
           23,
           20,
           12,
           23,
           15,
           12,
           3,
           6,
           6,
           1,
           19,
           23,
           12,
           12,
           19,
           19,
           11,
           12,
           11,
           19,
           3,
           19,
           19,
           19,
           12,
           23,
           11,
           6,
           11,
           11,
           20,
           23,
           3,
           1,
           1,
           11,
           2,
           14,
           9,
           1,
           12,
           12,
           6,
           1
          ],
          "value": [
           25,
           51.56,
           2.8,
           1.79,
           3.75,
           5,
           12.6,
           23.82,
           4.89,
           43.62,
           4.54,
           8.4,
           3.35,
           3.4,
           4.3,
           25,
           625,
           54,
           37,
           19,
           96,
           3400.1299999999997,
           51.48,
           12.2,
           3.95,
           0.4,
           8.5,
           25,
           7.77,
           2,
           6.45,
           10.95,
           16.2,
           3.64,
           56.93,
           9.1,
           14.2,
           3.95,
           3.5,
           4.4,
           13,
           5.09,
           49.78,
           3.5,
           3.35,
           64.24,
           3.25,
           3.95,
           4.9,
           2.99,
           4.75,
           12.01,
           26.5,
           4.08,
           2.74,
           8.79,
           6.27,
           36.91,
           30.01,
           21.15,
           59.78,
           34.69,
           5.7,
           5.9,
           3.24,
           3.73,
           7.25,
           42.78,
           3.99,
           4.74,
           3.88,
           6.1,
           38.8,
           21.39,
           4.56,
           5.07,
           8.01,
           7.06,
           0.42,
           80,
           25,
           2.85,
           2.35,
           0.5,
           47.89,
           4.4,
           8.73,
           13.65,
           30.01,
           1,
           2,
           14.25,
           10.07,
           5.1,
           13.84,
           12.6,
           6.62,
           9.77,
           9.41,
           6.04,
           8.49,
           1.58,
           3.94,
           7.27,
           625,
           54,
           37,
           19,
           96,
           3424.86,
           6.37,
           2.62,
           1.93,
           3.06,
           0.88,
           5.25,
           5.6,
           8.73,
           6.57,
           5.25,
           6.99,
           3.76,
           0.87,
           3.93,
           19.02,
           50,
           1.49,
           4.37,
           3.98,
           6.95,
           16.61,
           5.84,
           3.36,
           3.12,
           3.91,
           0.87,
           0.87,
           0.87,
           5.23,
           4.54,
           1.57,
           4.88,
           100,
           50,
           100,
           0.87,
           0.87,
           18.14,
           17.72,
           10.24,
           9.55,
           2.62,
           10.99,
           3.45,
           7.95,
           2.5,
           10.3,
           8.5,
           159.95,
           35.53,
           21.2,
           51.99,
           5.3,
           7.25,
           6.55,
           65,
           14.47,
           34.36,
           4.5,
           25.45,
           20,
           12.75,
           45.43,
           6.7,
           8.48,
           6.5,
           14.2,
           29.85,
           14.95,
           26.5,
           1.9,
           65.81,
           14.76,
           6.66,
           14.9,
           88,
           50,
           5.65,
           11.59,
           8.48,
           3,
           10,
           64.92,
           9.1,
           0.43,
           395,
           145.62,
           10.75,
           11,
           25,
           7.81,
           120.13,
           26.14,
           50,
           12.6,
           4.5,
           142,
           25,
           25.4,
           132.21,
           54,
           625,
           37,
           19,
           96,
           5.07,
           1.9,
           13.5,
           1,
           2,
           186.15,
           25.2,
           48.87,
           3098.7599999999998,
           141.15,
           15.15,
           28.7,
           19.8,
           700,
           14.32,
           14.2,
           1768,
           54.91,
           0.5,
           0.8,
           4.49,
           3,
           23.51,
           4.49,
           8.38,
           40.5,
           15.25,
           16.15,
           10.15,
           2.53,
           12.99,
           26.5,
           1129.6,
           30,
           3,
           6.45,
           71.28,
           8.35,
           18.97,
           800,
           1,
           18.22,
           15,
           2.85,
           12.13,
           5.86,
           39.99,
           2.99,
           3.62,
           3.5,
           30.36,
           50,
           33.33,
           10.99,
           16.03,
           6.47,
           4.57,
           25,
           4.88,
           3.58,
           7,
           3,
           27.6,
           5.85,
           50,
           2.95,
           5.66,
           7,
           316,
           156,
           350,
           350,
           88,
           36.6,
           7.05,
           11,
           9.84,
           4.9,
           7.32,
           41,
           17,
           625,
           54,
           32.1,
           93.08,
           3098.7599999999998,
           15,
           1.99,
           6.55,
           38.71,
           81.33,
           12.77,
           169.12,
           66.81,
           9.4,
           25.89,
           6.35,
           11.95,
           5.73,
           30.65,
           174.5,
           36.64,
           2.24,
           229,
           4.95,
           20.66,
           84.5,
           4.49,
           100,
           7,
           62.31,
           5.88,
           3.35,
           4,
           31.25,
           14.66,
           70,
           53,
           14.18,
           20.64,
           16.98,
           8.19,
           12.27,
           4.38,
           45.2,
           13.5,
           22.99,
           7.59,
           5.85,
           1.95,
           7.06,
           20.35,
           6,
           3.08,
           1.85,
           15.78,
           14.75,
           29.52,
           2.28,
           23.9,
           0.49,
           4.97,
           8.6,
           3.96,
           10.98,
           19,
           6.07,
           24,
           7.89,
           3.2,
           4.3,
           5.88,
           4.14,
           14.7,
           800,
           16.25,
           15.8,
           1000,
           20,
           3,
           1.2,
           1.79,
           13.57,
           10.22,
           3.8,
           5.22,
           6.74,
           5.22,
           10.54,
           4.28,
           15.56,
           55.74,
           20.74,
           7.65,
           25,
           5.97,
           25.52,
           13.57,
           9.36,
           49,
           10.4,
           15.71,
           12.3,
           20.72,
           50,
           96,
           42,
           4.48,
           5.75,
           50,
           54.98,
           12.6,
           4.84,
           11.65,
           0.5,
           65.74,
           46,
           13.18
          ]
         },
         "node": {
          "color": "blue",
          "label": [
           "Charity_in",
           "Groceries",
           "Housing",
           "Personal Care",
           "Transport_in",
           "Holidays_in",
           "Shopping",
           "Income_in",
           "Cash",
           "Education",
           "Housing_in",
           "Eating Out",
           "Transport",
           "Family_in",
           "Bills",
           "Charity",
           "Entertainment",
           "Family",
           "Eating Out_in",
           "General",
           "Holidays",
           "Shopping_in",
           "General_in",
           "in",
           "in"
          ],
          "line": {
           "color": "black",
           "width": 0.15
          },
          "pad": 10,
          "thickness": 10
         },
         "type": "sankey"
        }
       ],
       "layout": {
        "font": {
         "size": 20
        },
        "height": 1200,
        "template": {
         "data": {
          "bar": [
           {
            "error_x": {
             "color": "#2a3f5f"
            },
            "error_y": {
             "color": "#2a3f5f"
            },
            "marker": {
             "line": {
              "color": "#E5ECF6",
              "width": 0.5
             },
             "pattern": {
              "fillmode": "overlay",
              "size": 10,
              "solidity": 0.2
             }
            },
            "type": "bar"
           }
          ],
          "barpolar": [
           {
            "marker": {
             "line": {
              "color": "#E5ECF6",
              "width": 0.5
             },
             "pattern": {
              "fillmode": "overlay",
              "size": 10,
              "solidity": 0.2
             }
            },
            "type": "barpolar"
           }
          ],
          "carpet": [
           {
            "aaxis": {
             "endlinecolor": "#2a3f5f",
             "gridcolor": "white",
             "linecolor": "white",
             "minorgridcolor": "white",
             "startlinecolor": "#2a3f5f"
            },
            "baxis": {
             "endlinecolor": "#2a3f5f",
             "gridcolor": "white",
             "linecolor": "white",
             "minorgridcolor": "white",
             "startlinecolor": "#2a3f5f"
            },
            "type": "carpet"
           }
          ],
          "choropleth": [
           {
            "colorbar": {
             "outlinewidth": 0,
             "ticks": ""
            },
            "type": "choropleth"
           }
          ],
          "contour": [
           {
            "colorbar": {
             "outlinewidth": 0,
             "ticks": ""
            },
            "colorscale": [
             [
              0,
              "#0d0887"
             ],
             [
              0.1111111111111111,
              "#46039f"
             ],
             [
              0.2222222222222222,
              "#7201a8"
             ],
             [
              0.3333333333333333,
              "#9c179e"
             ],
             [
              0.4444444444444444,
              "#bd3786"
             ],
             [
              0.5555555555555556,
              "#d8576b"
             ],
             [
              0.6666666666666666,
              "#ed7953"
             ],
             [
              0.7777777777777778,
              "#fb9f3a"
             ],
             [
              0.8888888888888888,
              "#fdca26"
             ],
             [
              1,
              "#f0f921"
             ]
            ],
            "type": "contour"
           }
          ],
          "contourcarpet": [
           {
            "colorbar": {
             "outlinewidth": 0,
             "ticks": ""
            },
            "type": "contourcarpet"
           }
          ],
          "heatmap": [
           {
            "colorbar": {
             "outlinewidth": 0,
             "ticks": ""
            },
            "colorscale": [
             [
              0,
              "#0d0887"
             ],
             [
              0.1111111111111111,
              "#46039f"
             ],
             [
              0.2222222222222222,
              "#7201a8"
             ],
             [
              0.3333333333333333,
              "#9c179e"
             ],
             [
              0.4444444444444444,
              "#bd3786"
             ],
             [
              0.5555555555555556,
              "#d8576b"
             ],
             [
              0.6666666666666666,
              "#ed7953"
             ],
             [
              0.7777777777777778,
              "#fb9f3a"
             ],
             [
              0.8888888888888888,
              "#fdca26"
             ],
             [
              1,
              "#f0f921"
             ]
            ],
            "type": "heatmap"
           }
          ],
          "heatmapgl": [
           {
            "colorbar": {
             "outlinewidth": 0,
             "ticks": ""
            },
            "colorscale": [
             [
              0,
              "#0d0887"
             ],
             [
              0.1111111111111111,
              "#46039f"
             ],
             [
              0.2222222222222222,
              "#7201a8"
             ],
             [
              0.3333333333333333,
              "#9c179e"
             ],
             [
              0.4444444444444444,
              "#bd3786"
             ],
             [
              0.5555555555555556,
              "#d8576b"
             ],
             [
              0.6666666666666666,
              "#ed7953"
             ],
             [
              0.7777777777777778,
              "#fb9f3a"
             ],
             [
              0.8888888888888888,
              "#fdca26"
             ],
             [
              1,
              "#f0f921"
             ]
            ],
            "type": "heatmapgl"
           }
          ],
          "histogram": [
           {
            "marker": {
             "pattern": {
              "fillmode": "overlay",
              "size": 10,
              "solidity": 0.2
             }
            },
            "type": "histogram"
           }
          ],
          "histogram2d": [
           {
            "colorbar": {
             "outlinewidth": 0,
             "ticks": ""
            },
            "colorscale": [
             [
              0,
              "#0d0887"
             ],
             [
              0.1111111111111111,
              "#46039f"
             ],
             [
              0.2222222222222222,
              "#7201a8"
             ],
             [
              0.3333333333333333,
              "#9c179e"
             ],
             [
              0.4444444444444444,
              "#bd3786"
             ],
             [
              0.5555555555555556,
              "#d8576b"
             ],
             [
              0.6666666666666666,
              "#ed7953"
             ],
             [
              0.7777777777777778,
              "#fb9f3a"
             ],
             [
              0.8888888888888888,
              "#fdca26"
             ],
             [
              1,
              "#f0f921"
             ]
            ],
            "type": "histogram2d"
           }
          ],
          "histogram2dcontour": [
           {
            "colorbar": {
             "outlinewidth": 0,
             "ticks": ""
            },
            "colorscale": [
             [
              0,
              "#0d0887"
             ],
             [
              0.1111111111111111,
              "#46039f"
             ],
             [
              0.2222222222222222,
              "#7201a8"
             ],
             [
              0.3333333333333333,
              "#9c179e"
             ],
             [
              0.4444444444444444,
              "#bd3786"
             ],
             [
              0.5555555555555556,
              "#d8576b"
             ],
             [
              0.6666666666666666,
              "#ed7953"
             ],
             [
              0.7777777777777778,
              "#fb9f3a"
             ],
             [
              0.8888888888888888,
              "#fdca26"
             ],
             [
              1,
              "#f0f921"
             ]
            ],
            "type": "histogram2dcontour"
           }
          ],
          "mesh3d": [
           {
            "colorbar": {
             "outlinewidth": 0,
             "ticks": ""
            },
            "type": "mesh3d"
           }
          ],
          "parcoords": [
           {
            "line": {
             "colorbar": {
              "outlinewidth": 0,
              "ticks": ""
             }
            },
            "type": "parcoords"
           }
          ],
          "pie": [
           {
            "automargin": true,
            "type": "pie"
           }
          ],
          "scatter": [
           {
            "fillpattern": {
             "fillmode": "overlay",
             "size": 10,
             "solidity": 0.2
            },
            "type": "scatter"
           }
          ],
          "scatter3d": [
           {
            "line": {
             "colorbar": {
              "outlinewidth": 0,
              "ticks": ""
             }
            },
            "marker": {
             "colorbar": {
              "outlinewidth": 0,
              "ticks": ""
             }
            },
            "type": "scatter3d"
           }
          ],
          "scattercarpet": [
           {
            "marker": {
             "colorbar": {
              "outlinewidth": 0,
              "ticks": ""
             }
            },
            "type": "scattercarpet"
           }
          ],
          "scattergeo": [
           {
            "marker": {
             "colorbar": {
              "outlinewidth": 0,
              "ticks": ""
             }
            },
            "type": "scattergeo"
           }
          ],
          "scattergl": [
           {
            "marker": {
             "colorbar": {
              "outlinewidth": 0,
              "ticks": ""
             }
            },
            "type": "scattergl"
           }
          ],
          "scattermapbox": [
           {
            "marker": {
             "colorbar": {
              "outlinewidth": 0,
              "ticks": ""
             }
            },
            "type": "scattermapbox"
           }
          ],
          "scatterpolar": [
           {
            "marker": {
             "colorbar": {
              "outlinewidth": 0,
              "ticks": ""
             }
            },
            "type": "scatterpolar"
           }
          ],
          "scatterpolargl": [
           {
            "marker": {
             "colorbar": {
              "outlinewidth": 0,
              "ticks": ""
             }
            },
            "type": "scatterpolargl"
           }
          ],
          "scatterternary": [
           {
            "marker": {
             "colorbar": {
              "outlinewidth": 0,
              "ticks": ""
             }
            },
            "type": "scatterternary"
           }
          ],
          "surface": [
           {
            "colorbar": {
             "outlinewidth": 0,
             "ticks": ""
            },
            "colorscale": [
             [
              0,
              "#0d0887"
             ],
             [
              0.1111111111111111,
              "#46039f"
             ],
             [
              0.2222222222222222,
              "#7201a8"
             ],
             [
              0.3333333333333333,
              "#9c179e"
             ],
             [
              0.4444444444444444,
              "#bd3786"
             ],
             [
              0.5555555555555556,
              "#d8576b"
             ],
             [
              0.6666666666666666,
              "#ed7953"
             ],
             [
              0.7777777777777778,
              "#fb9f3a"
             ],
             [
              0.8888888888888888,
              "#fdca26"
             ],
             [
              1,
              "#f0f921"
             ]
            ],
            "type": "surface"
           }
          ],
          "table": [
           {
            "cells": {
             "fill": {
              "color": "#EBF0F8"
             },
             "line": {
              "color": "white"
             }
            },
            "header": {
             "fill": {
              "color": "#C8D4E3"
             },
             "line": {
              "color": "white"
             }
            },
            "type": "table"
           }
          ]
         },
         "layout": {
          "annotationdefaults": {
           "arrowcolor": "#2a3f5f",
           "arrowhead": 0,
           "arrowwidth": 1
          },
          "autotypenumbers": "strict",
          "coloraxis": {
           "colorbar": {
            "outlinewidth": 0,
            "ticks": ""
           }
          },
          "colorscale": {
           "diverging": [
            [
             0,
             "#8e0152"
            ],
            [
             0.1,
             "#c51b7d"
            ],
            [
             0.2,
             "#de77ae"
            ],
            [
             0.3,
             "#f1b6da"
            ],
            [
             0.4,
             "#fde0ef"
            ],
            [
             0.5,
             "#f7f7f7"
            ],
            [
             0.6,
             "#e6f5d0"
            ],
            [
             0.7,
             "#b8e186"
            ],
            [
             0.8,
             "#7fbc41"
            ],
            [
             0.9,
             "#4d9221"
            ],
            [
             1,
             "#276419"
            ]
           ],
           "sequential": [
            [
             0,
             "#0d0887"
            ],
            [
             0.1111111111111111,
             "#46039f"
            ],
            [
             0.2222222222222222,
             "#7201a8"
            ],
            [
             0.3333333333333333,
             "#9c179e"
            ],
            [
             0.4444444444444444,
             "#bd3786"
            ],
            [
             0.5555555555555556,
             "#d8576b"
            ],
            [
             0.6666666666666666,
             "#ed7953"
            ],
            [
             0.7777777777777778,
             "#fb9f3a"
            ],
            [
             0.8888888888888888,
             "#fdca26"
            ],
            [
             1,
             "#f0f921"
            ]
           ],
           "sequentialminus": [
            [
             0,
             "#0d0887"
            ],
            [
             0.1111111111111111,
             "#46039f"
            ],
            [
             0.2222222222222222,
             "#7201a8"
            ],
            [
             0.3333333333333333,
             "#9c179e"
            ],
            [
             0.4444444444444444,
             "#bd3786"
            ],
            [
             0.5555555555555556,
             "#d8576b"
            ],
            [
             0.6666666666666666,
             "#ed7953"
            ],
            [
             0.7777777777777778,
             "#fb9f3a"
            ],
            [
             0.8888888888888888,
             "#fdca26"
            ],
            [
             1,
             "#f0f921"
            ]
           ]
          },
          "colorway": [
           "#636efa",
           "#EF553B",
           "#00cc96",
           "#ab63fa",
           "#FFA15A",
           "#19d3f3",
           "#FF6692",
           "#B6E880",
           "#FF97FF",
           "#FECB52"
          ],
          "font": {
           "color": "#2a3f5f"
          },
          "geo": {
           "bgcolor": "white",
           "lakecolor": "white",
           "landcolor": "#E5ECF6",
           "showlakes": true,
           "showland": true,
           "subunitcolor": "white"
          },
          "hoverlabel": {
           "align": "left"
          },
          "hovermode": "closest",
          "mapbox": {
           "style": "light"
          },
          "paper_bgcolor": "white",
          "plot_bgcolor": "#E5ECF6",
          "polar": {
           "angularaxis": {
            "gridcolor": "white",
            "linecolor": "white",
            "ticks": ""
           },
           "bgcolor": "#E5ECF6",
           "radialaxis": {
            "gridcolor": "white",
            "linecolor": "white",
            "ticks": ""
           }
          },
          "scene": {
           "xaxis": {
            "backgroundcolor": "#E5ECF6",
            "gridcolor": "white",
            "gridwidth": 2,
            "linecolor": "white",
            "showbackground": true,
            "ticks": "",
            "zerolinecolor": "white"
           },
           "yaxis": {
            "backgroundcolor": "#E5ECF6",
            "gridcolor": "white",
            "gridwidth": 2,
            "linecolor": "white",
            "showbackground": true,
            "ticks": "",
            "zerolinecolor": "white"
           },
           "zaxis": {
            "backgroundcolor": "#E5ECF6",
            "gridcolor": "white",
            "gridwidth": 2,
            "linecolor": "white",
            "showbackground": true,
            "ticks": "",
            "zerolinecolor": "white"
           }
          },
          "shapedefaults": {
           "line": {
            "color": "#2a3f5f"
           }
          },
          "ternary": {
           "aaxis": {
            "gridcolor": "white",
            "linecolor": "white",
            "ticks": ""
           },
           "baxis": {
            "gridcolor": "white",
            "linecolor": "white",
            "ticks": ""
           },
           "bgcolor": "#E5ECF6",
           "caxis": {
            "gridcolor": "white",
            "linecolor": "white",
            "ticks": ""
           }
          },
          "title": {
           "x": 0.05
          },
          "xaxis": {
           "automargin": true,
           "gridcolor": "white",
           "linecolor": "white",
           "ticks": "",
           "title": {
            "standoff": 15
           },
           "zerolinecolor": "white",
           "zerolinewidth": 2
          },
          "yaxis": {
           "automargin": true,
           "gridcolor": "white",
           "linecolor": "white",
           "ticks": "",
           "title": {
            "standoff": 15
           },
           "zerolinecolor": "white",
           "zerolinewidth": 2
          }
         }
        },
        "title": {
         "text": "Budget"
        },
        "width": 2000
       }
      }
     },
     "metadata": {},
     "output_type": "display_data"
    }
   ],
   "source": [
    "import plotly.graph_objects as go\n",
    "\n",
    "fig = go.Figure(data=[go.Sankey(\n",
    "    arrangement='perpendicular',\n",
    "    node = dict(\n",
    "      pad = 10,\n",
    "      thickness = 10,\n",
    "      line = dict(color = \"black\", width = 0.15),\n",
    "      label = labels,\n",
    "      color = \"blue\"\n",
    "    ),\n",
    "    link = dict(\n",
    "      source = aug_dec_23['source'], # indices correspond to labels, eg A1, A2, A1, B1, ...\n",
    "      target = aug_dec_23['target'],\n",
    "      value = aug_dec_23['Amount'].apply(abs)\n",
    "  ))])\n",
    "\n",
    "fig.update_layout(title_text=\"Budget\", font_size=20, width=2000, height = 1200)\n",
    "fig.show()"
   ]
  }
 ],
 "metadata": {
  "kernelspec": {
   "display_name": "venv",
   "language": "python",
   "name": "python3"
  },
  "language_info": {
   "codemirror_mode": {
    "name": "ipython",
    "version": 3
   },
   "file_extension": ".py",
   "mimetype": "text/x-python",
   "name": "python",
   "nbconvert_exporter": "python",
   "pygments_lexer": "ipython3",
   "version": "3.11.6"
  }
 },
 "nbformat": 4,
 "nbformat_minor": 2
}
